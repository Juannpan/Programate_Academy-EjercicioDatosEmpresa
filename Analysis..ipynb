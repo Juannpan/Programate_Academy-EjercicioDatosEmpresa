{
 "cells": [
  {
   "cell_type": "code",
   "execution_count": 3,
   "metadata": {},
   "outputs": [],
   "source": [
    "#lib import\n",
    "import pandas as pd\n",
    "import numpy as np\n",
    "import matplotlib.pyplot as plt"
   ]
  },
  {
   "cell_type": "code",
   "execution_count": 4,
   "metadata": {},
   "outputs": [
    {
     "name": "stdout",
     "output_type": "stream",
     "text": [
      "                 tipo   color talla                   planta\n",
      "0              Shorts   Negro    XL     KnitNest Textile Co.\n",
      "1  Pantalón Deportivo    Azul     S        DyeDreams Factory\n",
      "2              Shorts  Blanco     M         TelaTech Factory\n",
      "3            Leggings    Azul     M        WeaveWave Fabrics\n",
      "4               Jeans    Gris     L  ThreadTide Textile Mill\n",
      "                 tipo   color talla                    planta\n",
      "0  Pantalón Deportivo  Blanco     L         DyeDreams Factory\n",
      "1      Pantalón Cargo   Verde     L  FiberWorks Manufacturing\n",
      "2               Jeans    Azul     S     LinenLoom Productions\n",
      "3      Pantalón Cargo    Gris    XL         DyeDreams Factory\n",
      "4  Pantalón Deportivo   Negro     S          TelaTech Factory\n"
     ]
    }
   ],
   "source": [
    "#database import\n",
    "from Database.datosplanta import cp_plant\n",
    "from Database.datosplanta import lugares\n",
    "\n",
    "#sell_databases\n",
    "dfv1 = pd.read_csv('Database/ventas-1-65d374724924b571259206.csv')\n",
    "dfv2 = pd.read_csv('Database//ventas-2-65d374947fb4d216940241.csv')\n",
    "\n",
    "#cost per plant\n",
    "print(dfv1.head())\n",
    "print(dfv2.head())"
   ]
  },
  {
   "cell_type": "code",
   "execution_count": 5,
   "metadata": {},
   "outputs": [
    {
     "name": "stdout",
     "output_type": "stream",
     "text": [
      "                     planta  precio\n",
      "0          TelaTech Factory    4.55\n",
      "1  FiberWorks Manufacturing    4.34\n",
      "2       SilkStream Textiles    4.27\n",
      "3         CottonCraft Works    4.13\n",
      "4     LinenLoom Productions    4.90\n",
      "                          lugar  descuento  envio\n",
      "0              EcoChic Boutique         30      3\n",
      "1        Vintage Vogue Emporium         35      4\n",
      "2          FitFrenzy Activewear         33      3\n",
      "3  Little Sprouts Fashion House         30      3\n",
      "4      Local Threads Collective         40      5\n"
     ]
    }
   ],
   "source": [
    "#Convert dictionaries into dataframes\n",
    "cpdf = pd.DataFrame(cp_plant)\n",
    "lugaresdf = pd.DataFrame(lugares)\n",
    "\n",
    "print(cpdf.head())\n",
    "print(lugaresdf.head())"
   ]
  },
  {
   "cell_type": "code",
   "execution_count": 6,
   "metadata": {},
   "outputs": [
    {
     "data": {
      "text/html": [
       "<div>\n",
       "<style scoped>\n",
       "    .dataframe tbody tr th:only-of-type {\n",
       "        vertical-align: middle;\n",
       "    }\n",
       "\n",
       "    .dataframe tbody tr th {\n",
       "        vertical-align: top;\n",
       "    }\n",
       "\n",
       "    .dataframe thead th {\n",
       "        text-align: right;\n",
       "    }\n",
       "</style>\n",
       "<table border=\"1\" class=\"dataframe\">\n",
       "  <thead>\n",
       "    <tr style=\"text-align: right;\">\n",
       "      <th></th>\n",
       "      <th>tipo</th>\n",
       "      <th>color</th>\n",
       "      <th>talla</th>\n",
       "      <th>planta</th>\n",
       "    </tr>\n",
       "  </thead>\n",
       "  <tbody>\n",
       "    <tr>\n",
       "      <th>0</th>\n",
       "      <td>False</td>\n",
       "      <td>False</td>\n",
       "      <td>False</td>\n",
       "      <td>False</td>\n",
       "    </tr>\n",
       "    <tr>\n",
       "      <th>1</th>\n",
       "      <td>False</td>\n",
       "      <td>False</td>\n",
       "      <td>False</td>\n",
       "      <td>False</td>\n",
       "    </tr>\n",
       "    <tr>\n",
       "      <th>2</th>\n",
       "      <td>False</td>\n",
       "      <td>False</td>\n",
       "      <td>False</td>\n",
       "      <td>False</td>\n",
       "    </tr>\n",
       "    <tr>\n",
       "      <th>3</th>\n",
       "      <td>False</td>\n",
       "      <td>False</td>\n",
       "      <td>False</td>\n",
       "      <td>False</td>\n",
       "    </tr>\n",
       "    <tr>\n",
       "      <th>4</th>\n",
       "      <td>False</td>\n",
       "      <td>False</td>\n",
       "      <td>False</td>\n",
       "      <td>False</td>\n",
       "    </tr>\n",
       "    <tr>\n",
       "      <th>...</th>\n",
       "      <td>...</td>\n",
       "      <td>...</td>\n",
       "      <td>...</td>\n",
       "      <td>...</td>\n",
       "    </tr>\n",
       "    <tr>\n",
       "      <th>494</th>\n",
       "      <td>False</td>\n",
       "      <td>False</td>\n",
       "      <td>False</td>\n",
       "      <td>False</td>\n",
       "    </tr>\n",
       "    <tr>\n",
       "      <th>495</th>\n",
       "      <td>False</td>\n",
       "      <td>False</td>\n",
       "      <td>False</td>\n",
       "      <td>False</td>\n",
       "    </tr>\n",
       "    <tr>\n",
       "      <th>496</th>\n",
       "      <td>False</td>\n",
       "      <td>False</td>\n",
       "      <td>False</td>\n",
       "      <td>False</td>\n",
       "    </tr>\n",
       "    <tr>\n",
       "      <th>497</th>\n",
       "      <td>False</td>\n",
       "      <td>False</td>\n",
       "      <td>False</td>\n",
       "      <td>False</td>\n",
       "    </tr>\n",
       "    <tr>\n",
       "      <th>498</th>\n",
       "      <td>False</td>\n",
       "      <td>False</td>\n",
       "      <td>False</td>\n",
       "      <td>False</td>\n",
       "    </tr>\n",
       "  </tbody>\n",
       "</table>\n",
       "<p>499 rows × 4 columns</p>\n",
       "</div>"
      ],
      "text/plain": [
       "      tipo  color  talla  planta\n",
       "0    False  False  False   False\n",
       "1    False  False  False   False\n",
       "2    False  False  False   False\n",
       "3    False  False  False   False\n",
       "4    False  False  False   False\n",
       "..     ...    ...    ...     ...\n",
       "494  False  False  False   False\n",
       "495  False  False  False   False\n",
       "496  False  False  False   False\n",
       "497  False  False  False   False\n",
       "498  False  False  False   False\n",
       "\n",
       "[499 rows x 4 columns]"
      ]
     },
     "execution_count": 6,
     "metadata": {},
     "output_type": "execute_result"
    }
   ],
   "source": [
    "#There is no null values\n",
    "dfv1.isnull()\n",
    "dfv2.isnull()"
   ]
  },
  {
   "cell_type": "code",
   "execution_count": 8,
   "metadata": {},
   "outputs": [],
   "source": [
    "#concat\n",
    "\n",
    "dfv = pd.concat([dfv1, dfv2], ignore_index=True)"
   ]
  },
  {
   "cell_type": "code",
   "execution_count": 9,
   "metadata": {},
   "outputs": [
    {
     "name": "stdout",
     "output_type": "stream",
     "text": [
      "                      planta\n",
      "993         TelaTech Factory\n",
      "994        DyeDreams Factory\n",
      "995  YarnYield Manufacturing\n",
      "996        DyeDreams Factory\n",
      "997  YarnYield Manufacturing\n"
     ]
    }
   ],
   "source": [
    "#Drop the columns that not will be use\n",
    "droped_columns = ['tipo', 'color', 'talla']\n",
    "jplantas = dfv.drop(columns=droped_columns)\n",
    "\n",
    "print(jplantas.tail())"
   ]
  },
  {
   "cell_type": "markdown",
   "metadata": {},
   "source": [
    "La columna original de plantas presentadas en las 2 bases de datos "
   ]
  },
  {
   "cell_type": "code",
   "execution_count": 10,
   "metadata": {},
   "outputs": [
    {
     "name": "stdout",
     "output_type": "stream",
     "text": [
      "                     planta  frecuencia\n",
      "0   YarnYield Manufacturing         114\n",
      "1  FiberWorks Manufacturing         110\n",
      "2     LinenLoom Productions         106\n",
      "3         CottonCraft Works         103\n",
      "4       SilkStream Textiles         102\n",
      "5   ThreadTide Textile Mill         101\n",
      "6          TelaTech Factory          97\n",
      "7         DyeDreams Factory          89\n",
      "8         WeaveWave Fabrics          89\n",
      "9      KnitNest Textile Co.          87\n"
     ]
    }
   ],
   "source": [
    "#Se eliminan duplicados en planta\n",
    "dfvc = jplantas.drop_duplicates(subset=['planta'])\n",
    "\n",
    "#frecuencia de plantas\n",
    "frecuencia_plantas = dfv['planta'].value_counts().reset_index()\n",
    "frecuencia_plantas.columns = ['planta', 'frecuencia']\n",
    "print(frecuencia_plantas)\n"
   ]
  },
  {
   "cell_type": "code",
   "execution_count": 11,
   "metadata": {},
   "outputs": [
    {
     "name": "stdout",
     "output_type": "stream",
     "text": [
      "                     planta  frecuencia\n",
      "5     LinenLoom Productions         106\n",
      "6       SilkStream Textiles         102\n",
      "7         CottonCraft Works         103\n",
      "8  FiberWorks Manufacturing         110\n",
      "9   YarnYield Manufacturing         114\n"
     ]
    }
   ],
   "source": [
    "\n",
    "#Dataframe con frecuencias\n",
    "\n",
    "df_cf = dfvc.merge(frecuencia_plantas, on='planta', how='inner')\n",
    "print(df_cf.tail())"
   ]
  },
  {
   "cell_type": "code",
   "execution_count": 12,
   "metadata": {},
   "outputs": [
    {
     "name": "stdout",
     "output_type": "stream",
     "text": [
      "                    planta  frecuencia  precio\n",
      "0     KnitNest Textile Co.          87    4.67\n",
      "1        DyeDreams Factory          89    4.51\n",
      "2         TelaTech Factory          97    4.55\n",
      "3        WeaveWave Fabrics          89    4.72\n",
      "4  ThreadTide Textile Mill         101    4.34\n"
     ]
    }
   ],
   "source": [
    "df_cf = df_cf.merge(cpdf, on='planta', how='inner')\n",
    "print(df_cf.head())"
   ]
  }
 ],
 "metadata": {
  "kernelspec": {
   "display_name": "Python 3",
   "language": "python",
   "name": "python3"
  },
  "language_info": {
   "codemirror_mode": {
    "name": "ipython",
    "version": 3
   },
   "file_extension": ".py",
   "mimetype": "text/x-python",
   "name": "python",
   "nbconvert_exporter": "python",
   "pygments_lexer": "ipython3",
   "version": "3.11.2"
  }
 },
 "nbformat": 4,
 "nbformat_minor": 2
}
